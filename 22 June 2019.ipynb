{
 "cells": [
  {
   "cell_type": "code",
   "execution_count": 2,
   "metadata": {},
   "outputs": [],
   "source": [
    "fh=open(\"book.txt\",\"w\")\n",
    "data=\"hi hello...\"\n",
    "fh.write(data)\n",
    "fh.close()\n"
   ]
  },
  {
   "cell_type": "code",
   "execution_count": 3,
   "metadata": {},
   "outputs": [
    {
     "name": "stdout",
     "output_type": "stream",
     "text": [
      "hi hello...\n"
     ]
    }
   ],
   "source": [
    "fh=open('book.txt','r')\n",
    "print(fh.read())\n",
    "fh.close()"
   ]
  },
  {
   "cell_type": "code",
   "execution_count": 4,
   "metadata": {},
   "outputs": [
    {
     "ename": "SyntaxError",
     "evalue": "invalid syntax (<ipython-input-4-810306015e3d>, line 2)",
     "output_type": "error",
     "traceback": [
      "\u001b[1;36m  File \u001b[1;32m\"<ipython-input-4-810306015e3d>\"\u001b[1;36m, line \u001b[1;32m2\u001b[0m\n\u001b[1;33m    -file handling\u001b[0m\n\u001b[1;37m                 ^\u001b[0m\n\u001b[1;31mSyntaxError\u001b[0m\u001b[1;31m:\u001b[0m invalid syntax\n"
     ]
    }
   ],
   "source": [
    "### Day Objectives\n",
    "-file handling\n",
    "    - basic filedata processing\n",
    "           - Accessing ana modififying file data\n",
    "    -character count\n",
    "    -line count\n",
    "    -file size\n",
    "    -Word count\n",
    "    -Unique word count\n",
    "    "
   ]
  },
  {
   "cell_type": "code",
   "execution_count": 6,
   "metadata": {},
   "outputs": [
    {
     "name": "stdout",
     "output_type": "stream",
     "text": [
      "<class '_io.TextIOWrapper'>\n"
     ]
    }
   ],
   "source": [
    "#Read a file-file should exist(Read mode)\n",
    "#Write to a file - Existing or New File(append mode) or newfile(write mode)\n",
    "def readFile(filePath):\n",
    "    with open(filePath,'r') as f:\n",
    "        print(type(f))\n",
    "    return\n",
    "filePath ='Datafiles/data.txt'\n",
    "readFile(filePath)\n",
    "\n",
    "    "
   ]
  },
  {
   "cell_type": "code",
   "execution_count": 1,
   "metadata": {},
   "outputs": [
    {
     "data": {
      "text/plain": [
       "'new data'"
      ]
     },
     "execution_count": 1,
     "metadata": {},
     "output_type": "execute_result"
    }
   ],
   "source": [
    "def readFile(filePath):\n",
    "    with open(filePath,'r') as f:\n",
    "        filedata = f.read()\n",
    "    return filedata\n",
    "    \n",
    "filePath ='Datafiles/data.txt'\n",
    "readFile(filePath)\n"
   ]
  },
  {
   "cell_type": "code",
   "execution_count": 11,
   "metadata": {},
   "outputs": [
    {
     "name": "stdout",
     "output_type": "stream",
     "text": [
      "8\n"
     ]
    }
   ],
   "source": [
    "fname = \"Datafiles/data.txt \"\n",
    "with open(fname, 'r') as f:\n",
    "    num_chars=0\n",
    "    for line in f:\n",
    "        for j in line :\n",
    "            num_chars += 1\n",
    "print(num_chars)"
   ]
  },
  {
   "cell_type": "code",
   "execution_count": 14,
   "metadata": {},
   "outputs": [
    {
     "name": "stdout",
     "output_type": "stream",
     "text": [
      "2\n",
      "Datafiles/data.txt \n"
     ]
    }
   ],
   "source": [
    "fname = \"Datafiles/data.txt \"\n",
    "with open(fname, 'r') as f:\n",
    "    word_count=0\n",
    "    a= f.read().split()\n",
    "    print(len(a))\n",
    "fname=\"Datafiles/data.txt \"  \n",
    "print(fname)"
   ]
  },
  {
   "cell_type": "code",
   "execution_count": 15,
   "metadata": {},
   "outputs": [
    {
     "name": "stdout",
     "output_type": "stream",
     "text": [
      "8 bytes\n"
     ]
    }
   ],
   "source": [
    "# file size\n",
    "import os\n",
    "def sizeoffile(f):\n",
    "    s=os.path.getsize(f)\n",
    "    if s<1000:\n",
    "        print(s,\"bytes\")\n",
    "    else:\n",
    "        c=s//1000\n",
    "        print(c,\"KB\")\n",
    "    return\n",
    "\n",
    "sizeoffile('DataFiles/data.txt')\n",
    "\n"
   ]
  },
  {
   "cell_type": "code",
   "execution_count": null,
   "metadata": {},
   "outputs": [],
   "source": []
  }
 ],
 "metadata": {
  "kernelspec": {
   "display_name": "Python 3",
   "language": "python",
   "name": "python3"
  },
  "language_info": {
   "codemirror_mode": {
    "name": "ipython",
    "version": 3
   },
   "file_extension": ".py",
   "mimetype": "text/x-python",
   "name": "python",
   "nbconvert_exporter": "python",
   "pygments_lexer": "ipython3",
   "version": "3.7.3"
  }
 },
 "nbformat": 4,
 "nbformat_minor": 2
}
