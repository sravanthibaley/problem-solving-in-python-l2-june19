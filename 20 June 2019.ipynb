{
 "cells": [
  {
   "cell_type": "markdown",
   "metadata": {},
   "source": [
    "### Day Objectives\n",
    "Regular Expression\n",
    "Constructing Regular Expression for various use cases\n",
    "Regular Expressions Module and related in python\n",
    "improving the Contacts application with name and phone number validation\n",
    "File Handling\n",
    "Text Files\n",
    "Upgrading the Contacts Application to store\n",
    "\n",
    "\n",
    "\n",
    "#### Regular Expression\n",
    "\n",
    "- pattern matching\n",
    "\n",
    "\n",
    "\n",
    "- Symbolic Notation of a pattern\n",
    "    - Pattern : Format Which Repeats\n",
    "    - Pattern(RE) - The set of all strings match that pattern\n",
    "- [0-9] -> Any digit\n",
    "\n",
    "- [a-z] -> Any lower case alphabet\n",
    "\n",
    "- [2468] -> All single digit muples of 2\n",
    "\n",
    "- ^[0-9]{1} ->only one single digit numbers\n",
    "\n",
    "- ^[0-9]{1} ->only 3 digit numbers\n",
    "\n",
    "- [0-9]*0$ -> All multiples of 10\n",
    "\n",
    "- ^[0-9][0-9]*[05]$^([5])$ -> all multiples of 5 other than 5\n",
    "\n",
    "- [1-9][0-9]{9}$ -> All 10 digits numbers\n",
    "\n",
    "- (word) or [w][o][r][d] ->searching a word\n",
    "\n",
    "-^[6-9][0-9]{9}$ or [0][6-9][0-9]${9}^[+][9][1] -> validating a indian phone number\n",
    "\n",
    "-^[0-9]\n",
    "-Email validation(username@domain.extention\n",
    "\n",
    "    -Username\n",
    "        -Length if username : [6,15]\n",
    "        -No special characters other than _ .\n",
    "        -should begin and end with _ and .\n",
    "        - Characters set : all digits and lower case alphabet\n",
    "        \n",
    "    -domain\n",
    "         -Length of domain : [3,18]\n",
    "         - no special characters\n",
    "         - characters set : all digits and lower case alphabet\n",
    "    -extension \n",
    "          -Lentgth of extension : [2,4]\n",
    "          -no special characters\n",
    "          -character set : alphabets lower case\n",
    "          \n",
    "-Any string of length of 5 that starts with a and ends eith z\n",
    "\n",
    "^[a]...[z]$\n",
    "-^[a].*[z] -> any stering any length starts with a and end with z\n",
    "\n"
   ]
  },
  {
   "cell_type": "code",
   "execution_count": 1,
   "metadata": {},
   "outputs": [
    {
     "name": "stdout",
     "output_type": "stream",
     "text": [
      "valid number\n"
     ]
    },
    {
     "data": {
      "text/plain": [
       "False"
      ]
     },
     "execution_count": 1,
     "metadata": {},
     "output_type": "execute_result"
    }
   ],
   "source": [
    "#function to validate a phone number\n",
    "\n",
    "import re\n",
    "def phonenumbervalidator(num):\n",
    "    pattern = '^[6-9][0-9]{9}'\n",
    "    if re.match(pattern,str(num)):\n",
    "        print(\"valid number\")\n",
    "    else:\n",
    "        print(\"Invalid\")\n",
    "    return\n",
    "phonenumbervalidator(9177086399)\n",
    "\n",
    "\n",
    "def emailvalidator(email):\n",
    "    pattern= '^[0-9a-z][0-9a-z_.]{4,13}[0-9a-z][@][0-9a-z]{3,18}[.][2-4][a-z]{2,4}$'\n",
    "    if re.match(pattern,email):\n",
    "        return True\n",
    "    return False\n",
    "emailvalidator(\"sravanthi@gmail.com\")\n"
   ]
  },
  {
   "cell_type": "code",
   "execution_count": 32,
   "metadata": {},
   "outputs": [
    {
     "name": "stdout",
     "output_type": "stream",
     "text": [
      "valid number\n",
      "invalid email adress\n"
     ]
    }
   ],
   "source": [
    "contacts = {\"name1\":[9177086377,\"name1@domain.ext\"],\"name2\":[7382645349,\"name2@domain.ext\"]}\n",
    "def addcontact(name,phone,email):\n",
    "    if name in contacts:\n",
    "        print(name,\"already exists\")\n",
    "    else:\n",
    "        if phonenumbervalidator(phone):\n",
    "            print(\"invalid phone number\")\n",
    "            return\n",
    "        if not emailvalidator(email):\n",
    "            print(\"invalid email adress\")\n",
    "            return\n",
    "        newcontact = []\n",
    "        newcontact.append(phone)\n",
    "        newcontact.append(email)\n",
    "        contacts[name] = newcontact\n",
    "    return\n",
    "addcontact(\"name3\",9177086399,\"abcde@gmail.com\")\n",
    "        \n"
   ]
  },
  {
   "cell_type": "code",
   "execution_count": 9,
   "metadata": {},
   "outputs": [
    {
     "ename": "NameError",
     "evalue": "name 'name' is not defined",
     "output_type": "error",
     "traceback": [
      "\u001b[1;31m---------------------------------------------------------------------------\u001b[0m",
      "\u001b[1;31mNameError\u001b[0m                                 Traceback (most recent call last)",
      "\u001b[1;32m<ipython-input-9-373b55ea8419>\u001b[0m in \u001b[0;36m<module>\u001b[1;34m\u001b[0m\n\u001b[0;32m      7\u001b[0m         \u001b[0mprint\u001b[0m\u001b[1;33m(\u001b[0m\u001b[1;34m\"%s does not exist\"\u001b[0m \u001b[1;33m%\u001b[0m \u001b[0mname\u001b[0m\u001b[1;33m)\u001b[0m\u001b[1;33m\u001b[0m\u001b[1;33m\u001b[0m\u001b[0m\n\u001b[0;32m      8\u001b[0m     \u001b[1;32mreturn\u001b[0m\u001b[1;33m\u001b[0m\u001b[1;33m\u001b[0m\u001b[0m\n\u001b[1;32m----> 9\u001b[1;33m \u001b[0msearchcontacts\u001b[0m\u001b[1;33m(\u001b[0m\u001b[0mname\u001b[0m\u001b[1;33m)\u001b[0m\u001b[1;33m\u001b[0m\u001b[1;33m\u001b[0m\u001b[0m\n\u001b[0m",
      "\u001b[1;31mNameError\u001b[0m: name 'name' is not defined"
     ]
    }
   ],
   "source": [
    "def searchcontacts(name):\n",
    "    if name in contacts:\n",
    "        print(name)\n",
    "        print(\"phone :\",contacts[name][0])\n",
    "        print(\"email :\",contacts[name][1])\n",
    "    else:\n",
    "        print(\"%s does not exist\" % name)\n",
    "    return\n",
    "searchcontacts(name)"
   ]
  },
  {
   "cell_type": "code",
   "execution_count": 7,
   "metadata": {},
   "outputs": [
    {
     "ename": "NameError",
     "evalue": "name 'newcontacts' is not defined",
     "output_type": "error",
     "traceback": [
      "\u001b[1;31m---------------------------------------------------------------------------\u001b[0m",
      "\u001b[1;31mNameError\u001b[0m                                 Traceback (most recent call last)",
      "\u001b[1;32m<ipython-input-7-9a82a1ca9177>\u001b[0m in \u001b[0;36m<module>\u001b[1;34m\u001b[0m\n\u001b[0;32m      3\u001b[0m     \u001b[0mprint\u001b[0m\u001b[1;33m(\u001b[0m\u001b[0mlen\u001b[0m\u001b[1;33m(\u001b[0m\u001b[0mnewcontacts\u001b[0m\u001b[1;33m.\u001b[0m\u001b[0mkeys\u001b[0m\u001b[1;33m(\u001b[0m\u001b[1;33m)\u001b[0m\u001b[1;33m)\u001b[0m\u001b[1;33m,\u001b[0m\u001b[1;33m)\u001b[0m\u001b[1;33m\u001b[0m\u001b[1;33m\u001b[0m\u001b[0m\n\u001b[0;32m      4\u001b[0m     \u001b[1;32mreturn\u001b[0m\u001b[1;33m\u001b[0m\u001b[1;33m\u001b[0m\u001b[0m\n\u001b[1;32m----> 5\u001b[1;33m \u001b[0mimportcontacts\u001b[0m\u001b[1;33m(\u001b[0m\u001b[0mnewcontacts\u001b[0m\u001b[1;33m)\u001b[0m\u001b[1;33m\u001b[0m\u001b[1;33m\u001b[0m\u001b[0m\n\u001b[0m",
      "\u001b[1;31mNameError\u001b[0m: name 'newcontacts' is not defined"
     ]
    }
   ],
   "source": [
    "def importcontacts(newcontacts):\n",
    "    contacts.update(newcontacts)\n",
    "    print(len(newcontacts.keys()),)\n",
    "    return\n",
    "    contacts={\"name4\":}\n",
    "importcontacts(newcontacts)\n",
    "contacts.items()\n"
   ]
  },
  {
   "cell_type": "code",
   "execution_count": null,
   "metadata": {},
   "outputs": [],
   "source": []
  },
  {
   "cell_type": "code",
   "execution_count": 8,
   "metadata": {},
   "outputs": [
    {
     "ename": "SyntaxError",
     "evalue": "invalid syntax (<ipython-input-8-dceef210cb84>, line 4)",
     "output_type": "error",
     "traceback": [
      "\u001b[1;36m  File \u001b[1;32m\"<ipython-input-8-dceef210cb84>\"\u001b[1;36m, line \u001b[1;32m4\u001b[0m\n\u001b[1;33m    print(contact,:\"\\n\",\"phone:\",info[0],\"\\n\")\u001b[0m\n\u001b[1;37m                  ^\u001b[0m\n\u001b[1;31mSyntaxError\u001b[0m\u001b[1;31m:\u001b[0m invalid syntax\n"
     ]
    }
   ],
   "source": [
    "#function to list all contacts\n",
    "def listallcontacts():\n",
    "    for contact,info in contacts.items:\n",
    "        print(contact,:\"\\n\",\"phone:\",info[0],\"\\n\")\n",
    "    return\n",
    "listallcontacts()"
   ]
  },
  {
   "cell_type": "code",
   "execution_count": 10,
   "metadata": {},
   "outputs": [
    {
     "ename": "SyntaxError",
     "evalue": "unexpected EOF while parsing (<ipython-input-10-ba5a21399842>, line 12)",
     "output_type": "error",
     "traceback": [
      "\u001b[1;36m  File \u001b[1;32m\"<ipython-input-10-ba5a21399842>\"\u001b[1;36m, line \u001b[1;32m12\u001b[0m\n\u001b[1;33m    \u001b[0m\n\u001b[1;37m    ^\u001b[0m\n\u001b[1;31mSyntaxError\u001b[0m\u001b[1;31m:\u001b[0m unexpected EOF while parsing\n"
     ]
    }
   ],
   "source": [
    "#function to edit contact info\n",
    "def editcontact(name,phone,email):\n",
    "    \n",
    "\n",
    "\n",
    "\n",
    "\n",
    "\n",
    "\n",
    "\n",
    "\n",
    "\n"
   ]
  },
  {
   "cell_type": "markdown",
   "metadata": {},
   "source": [
    "#### File handling in python\n",
    "\n",
    "File-Document containing information residing on the permanent storage\n",
    "\n",
    "Types -text,pdf,csv\n",
    "\n",
    "File I/O-channelling I/O data to files\n",
    "\n",
    "Default I/O channels - Keyboard /Screen\n",
    "\n",
    "\n",
    "Change I/O channel to files for Reading and Writing into files\n",
    "\n",
    "\n",
    "Read a file - Input\n",
    "\n",
    "Write to a file - output to a file\n",
    "\n",
    "Read/write a file -open(filename,mode)\n",
    "\n",
    "\n",
    "\n",
    "\n",
    "\n"
   ]
  },
  {
   "cell_type": "code",
   "execution_count": 4,
   "metadata": {},
   "outputs": [
    {
     "data": {
      "text/plain": [
       "'new data'"
      ]
     },
     "execution_count": 4,
     "metadata": {},
     "output_type": "execute_result"
    }
   ],
   "source": [
    "#function to read a file\n",
    "def readFile(filename):\n",
    "    f = open(filename,'r')\n",
    "    filedata = f.read()\n",
    "    f.close()\n",
    "    return filedata\n",
    "filename = \"Datafiles/data.txt\"\n",
    "readFile(filename)"
   ]
  },
  {
   "cell_type": "code",
   "execution_count": 5,
   "metadata": {},
   "outputs": [],
   "source": [
    "def writeIntoFile(filename,filedata):\n",
    "    with open(filename,'w') as f:\n",
    "        f.write(filedata)\n",
    "    return\n",
    "filename = 'Files/d.txt'\n",
    "\n",
    "writeIntoFile(filename,\"new data\")"
   ]
  },
  {
   "cell_type": "code",
   "execution_count": null,
   "metadata": {},
   "outputs": [],
   "source": []
  }
 ],
 "metadata": {
  "kernelspec": {
   "display_name": "Python 3",
   "language": "python",
   "name": "python3"
  },
  "language_info": {
   "codemirror_mode": {
    "name": "ipython",
    "version": 3
   },
   "file_extension": ".py",
   "mimetype": "text/x-python",
   "name": "python",
   "nbconvert_exporter": "python",
   "pygments_lexer": "ipython3",
   "version": "3.7.3"
  }
 },
 "nbformat": 4,
 "nbformat_minor": 2
}
