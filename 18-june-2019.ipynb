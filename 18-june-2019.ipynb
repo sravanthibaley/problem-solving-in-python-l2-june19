{
 "cells": [
  {
   "cell_type": "markdown",
   "metadata": {},
   "source": [
    "### Tuples\n",
    "t1 = ()\n",
    "l1=  []\n",
    "\n",
    "Diffence betweeen Lists and tuples\n",
    "\n",
    "lists are mutable- can be changed / modified\n",
    "\n",
    "Tuples are immutable - cannot be changed once intialized\n",
    "\n",
    "Tuples are used to acess data only\n",
    "\n",
    "lists are used to acess modify and delete\n",
    "\n"
   ]
  },
  {
   "cell_type": "code",
   "execution_count": 4,
   "metadata": {},
   "outputs": [
    {
     "data": {
      "text/plain": [
       "(2, 8, 6, 0)"
      ]
     },
     "execution_count": 4,
     "metadata": {},
     "output_type": "execute_result"
    }
   ],
   "source": [
    "t1 = (1, 2, 8, 6, 0)\n",
    "\n",
    "t1[3]\n",
    "\n",
    "t1[2:]\n",
    "\n",
    "t1[2]\n",
    "\n",
    "t1[1:]\n",
    "\n",
    "\n"
   ]
  },
  {
   "cell_type": "code",
   "execution_count": 5,
   "metadata": {},
   "outputs": [
    {
     "data": {
      "text/plain": [
       "tuple"
      ]
     },
     "execution_count": 5,
     "metadata": {},
     "output_type": "execute_result"
    }
   ],
   "source": [
    "type(t1)\n"
   ]
  },
  {
   "cell_type": "markdown",
   "metadata": {},
   "source": [
    "### Dictionaries\n",
    "\n",
    "It works on concept of Set\n",
    "Unique Data\n",
    "\n",
    "Keys, Values\n",
    "\n",
    "key is a unique identifier for a value\n",
    "\n",
    "value is dta that can be accessed with a key\n",
    "\n",
    "d1 = {}\n",
    "\n",
    "\n",
    "\n",
    "\n",
    " "
   ]
  },
  {
   "cell_type": "code",
   "execution_count": 13,
   "metadata": {},
   "outputs": [
    {
     "data": {
      "text/plain": [
       "{'k1': 'value1', 'k2': 'value2'}"
      ]
     },
     "execution_count": 13,
     "metadata": {},
     "output_type": "execute_result"
    }
   ],
   "source": [
    "d1 = {\"k1\":\"value1\",\"k2\":\"value2\"}\n",
    "\n",
    "d1[\"k2\"]\n",
    "\n",
    "d1.keys()\n",
    "\n",
    "d1.values()\n",
    "\n",
    "d1.items()\n",
    "\n",
    "d1[\"k3\"]=\"value3\"    #Adding element\n",
    "\n",
    "d1[\"k3\"] = \"value4\"  #updating an element\n",
    "\n",
    "d1.pop(\"k3\")         #removing an element\n",
    "\n",
    "\n",
    "d1"
   ]
  },
  {
   "cell_type": "markdown",
   "metadata": {},
   "source": [
    "# conctact Application\n",
    "\n",
    "- Add Contact\n",
    "- search for contact\n",
    "- list all contacts \n",
    "    -name1 : phone1\n",
    "    -name2 : phone2\n",
    "    \n",
    "- modify contact\n",
    "   \n",
    "- delete contact\n",
    "\n"
   ]
  },
  {
   "cell_type": "code",
   "execution_count": 19,
   "metadata": {},
   "outputs": [
    {
     "name": "stdout",
     "output_type": "stream",
     "text": [
      "contact name1 added\n"
     ]
    }
   ],
   "source": [
    "contacts = {}\n",
    "\n",
    "def addContact(name,phone):\n",
    "    if name not in contacts:\n",
    "        contacts[name] = phone\n",
    "        print(\"contact %s added\" % name)\n",
    "    else:\n",
    "        print(\"contacts %s already exists\"   % name)\n",
    "    return\n",
    "addContact(\"name1\",\"7382645349\")"
   ]
  },
  {
   "cell_type": "code",
   "execution_count": 23,
   "metadata": {},
   "outputs": [
    {
     "name": "stdout",
     "output_type": "stream",
     "text": [
      "name10 does not exist\n"
     ]
    }
   ],
   "source": [
    "def searchContacts(name):\n",
    "    if name in contacts:\n",
    "        print(name, \":\", contact[name])\n",
    "    else:\n",
    "        print(\"%s does not exist\" % name)\n",
    "    return\n",
    "searchContacts(\"name10\")\n"
   ]
  },
  {
   "cell_type": "code",
   "execution_count": 29,
   "metadata": {},
   "outputs": [
    {
     "name": "stdout",
     "output_type": "stream",
     "text": [
      "2  contacts added sucessfully\n"
     ]
    }
   ],
   "source": [
    "# New contacts is given as a dictionary\n",
    "def importContacts(newContacts):\n",
    "        contacts.update(newContacts)\n",
    "        print(len(newContacts.keys()), \" contacts added sucessfully\")\n",
    "        return\n",
    "newContacts = {\"name2\":8500707568, \"name3\":8333833003}\n",
    "\n",
    "importContacts(newContacts)\n"
   ]
  },
  {
   "cell_type": "code",
   "execution_count": null,
   "metadata": {
    "collapsed": true
   },
   "outputs": [],
   "source": []
  },
  {
   "cell_type": "code",
   "execution_count": null,
   "metadata": {},
   "outputs": [],
   "source": []
  },
  {
   "cell_type": "markdown",
   "metadata": {},
   "source": [
    "Packages and Modules\n",
    "\n",
    "**packages**->collection of modules(python file.py) and subpackages\n",
    "\n",
    "**Modules**  a single python file containing functions\n",
    "-> \n",
    "package->Subpackages -> Modules -> Functions -> \n",
    "\n"
   ]
  },
  {
   "cell_type": "code",
   "execution_count": 38,
   "metadata": {},
   "outputs": [
    {
     "data": {
      "text/plain": [
       "3.141592653589793"
      ]
     },
     "execution_count": 38,
     "metadata": {},
     "output_type": "execute_result"
    }
   ],
   "source": [
    "from math import floor as fl\n",
    "\n",
    "fl(123.456)\n",
    "\n",
    "math.pi\n",
    "\n"
   ]
  },
  {
   "cell_type": "code",
   "execution_count": 44,
   "metadata": {},
   "outputs": [
    {
     "name": "stdout",
     "output_type": "stream",
     "text": [
      "39 93 45 51 28 41 0 94 45 38 "
     ]
    }
   ],
   "source": [
    "#Function to generate N random numbers\n",
    "\n",
    "import random\n",
    "\n",
    "def generateNRandomNumbers(n, lb, ub):\n",
    "    for i in range(0, n):\n",
    "        print(random.randint(lb, ub), end= \" \")\n",
    "generateNRandomNumbers(10,0,100)    \n",
    "    "
   ]
  },
  {
   "cell_type": "code",
   "execution_count": null,
   "metadata": {},
   "outputs": [
    {
     "name": "stdout",
     "output_type": "stream",
     "text": [
      "100\n",
      "2 3 5 7 11 13 17 19 23 29 31 37 41 43 47 53 59 61 67 71 73 79 83 89 97 "
     ]
    }
   ],
   "source": [
    "from Pakages import numerical\n",
    "\n",
    "numerical.prime(100)\n"
   ]
  },
  {
   "cell_type": "code",
   "execution_count": null,
   "metadata": {},
   "outputs": [],
   "source": []
  }
 ],
 "metadata": {
  "kernelspec": {
   "display_name": "Python 3",
   "language": "python",
   "name": "python3"
  },
  "language_info": {
   "codemirror_mode": {
    "name": "ipython",
    "version": 3
   },
   "file_extension": ".py",
   "mimetype": "text/x-python",
   "name": "python",
   "nbconvert_exporter": "python",
   "pygments_lexer": "ipython3",
   "version": "3.7.3"
  }
 },
 "nbformat": 4,
 "nbformat_minor": 2
}
