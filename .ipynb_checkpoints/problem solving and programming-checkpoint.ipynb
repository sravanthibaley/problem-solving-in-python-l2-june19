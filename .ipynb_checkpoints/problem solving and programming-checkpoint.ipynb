{
 "cells": [
  {
   "cell_type": "markdown",
   "metadata": {},
   "source": [
    "# problem solving programming\n",
    "\n",
    "#### date 12 june 2019\n",
    "\n",
    "#### day objectives\n",
    "\n",
    "- "
   ]
  },
  {
   "cell_type": "code",
   "execution_count": null,
   "metadata": {},
   "outputs": [],
   "source": []
  },
  {
   "cell_type": "markdown",
   "metadata": {},
   "source": [
    "# string slicing"
   ]
  },
  {
   "cell_type": "code",
   "execution_count": 1,
   "metadata": {},
   "outputs": [
    {
     "data": {
      "text/plain": [
       "'python'"
      ]
     },
     "execution_count": 1,
     "metadata": {},
     "output_type": "execute_result"
    }
   ],
   "source": [
    "s1 = 'python' #single quotes and double quotes both represent string\n",
    "\n",
    "s1"
   ]
  },
  {
   "cell_type": "code",
   "execution_count": 2,
   "metadata": {},
   "outputs": [
    {
     "data": {
      "text/plain": [
       "'p'"
      ]
     },
     "execution_count": 2,
     "metadata": {},
     "output_type": "execute_result"
    }
   ],
   "source": [
    "s1 = 'python' #single quotes and double quotes both represent string\n",
    "\n",
    "s1[0]"
   ]
  },
  {
   "cell_type": "code",
   "execution_count": 4,
   "metadata": {},
   "outputs": [
    {
     "data": {
      "text/plain": [
       "'n'"
      ]
     },
     "execution_count": 4,
     "metadata": {},
     "output_type": "execute_result"
    }
   ],
   "source": [
    "s1 = 'python' #single quotes and double quotes both represent string\n",
    "\n",
    "s1[5]"
   ]
  },
  {
   "cell_type": "code",
   "execution_count": 6,
   "metadata": {},
   "outputs": [
    {
     "data": {
      "text/plain": [
       "'a'"
      ]
     },
     "execution_count": 6,
     "metadata": {},
     "output_type": "execute_result"
    }
   ],
   "source": [
    "s1 = 'pythondhanalakshminalgondatelangana' #single quotes and double quotes both represent string\n",
    "\n",
    "s1[len(s1)-1]\n",
    "\n"
   ]
  },
  {
   "cell_type": "code",
   "execution_count": 61,
   "metadata": {},
   "outputs": [
    {
     "data": {
      "text/plain": [
       "'aanltdolnmsaaadotp'"
      ]
     },
     "execution_count": 61,
     "metadata": {},
     "output_type": "execute_result"
    }
   ],
   "source": [
    "s1 = 'pythondhanalakshminalgondatelangana' #single quotes and double quotes both represent string\n",
    "\n",
    "s1[0]                #accesing the 1st character of a string\n",
    "s1[1]                #accesing the 1st character of a string\n",
    "s1[len(s1)-1]         #accesing the last character in a string         \n",
    "\n",
    "s1[-1]                #another way of accessing the last character\n",
    "\n",
    "s1[-2]                #accessing the penultimate character of a string\n",
    "\n",
    "s1[0:2]              #starts at 1st character and ends at 2nd character\n",
    "\n",
    "s1[0:18]              #starts at 1st character and ends at 18th character\n",
    "\n",
    "s1[-2:]              #starts at 2nd character from last and blank represents\n",
    "\n",
    "s1[-9:]              #starts at 9nd character from last and blank represents\n",
    "\n",
    "s1[4:10]              #starts at 4th character from 10th character\n",
    "\n",
    "s1[4:]              #starts at 5th character and ends with last character\n",
    "\n",
    "s1[1:-1]           #accessing all characters accept 1st and last character\n",
    "\n",
    "s1[len(s1)//2]     #accessing the middile character of a string\n",
    "\n",
    "s1[-1::-1]                   # reverse of the string\n",
    "\n",
    "s1[-1:0:-1]                   # reverse of the string except 1st latter missing\n",
    "\n",
    "s1[-1:-3:-1]              #access last two characters in a reverse order\n",
    "\n",
    "s1[len(s1)//2:len(s1)//2-2:-1]  #reverse the middle two characters in an even length string\n",
    "\n",
    "s1[::2]                        # accessing alternate characters in a string # \"python\" -> \"pto\"\n",
    "\n",
    "s1[::-2]                    # accessing alternate characters in a string in a reverse order # \"python\" -> \"nhy\"\n",
    "\n",
    "\n",
    "\n",
    "\n",
    "\n",
    "\n",
    "\n"
   ]
  },
  {
   "cell_type": "code",
   "execution_count": null,
   "metadata": {},
   "outputs": [],
   "source": []
  },
  {
   "cell_type": "markdown",
   "metadata": {},
   "source": [
    "# functions "
   ]
  },
  {
   "cell_type": "code",
   "execution_count": 62,
   "metadata": {},
   "outputs": [
    {
     "data": {
      "text/plain": [
       "'nohtyp'"
      ]
     },
     "execution_count": 62,
     "metadata": {},
     "output_type": "execute_result"
    }
   ],
   "source": [
    "#function to reverse a string\n",
    "def reversestring(s):\n",
    "    return s[::-1]\n",
    "\n",
    "reversestring(\"python\")"
   ]
  },
  {
   "cell_type": "code",
   "execution_count": 68,
   "metadata": {},
   "outputs": [
    {
     "data": {
      "text/plain": [
       "True"
      ]
     },
     "execution_count": 68,
     "metadata": {},
     "output_type": "execute_result"
    }
   ],
   "source": [
    "#function to check if a string is a pallindrom\n",
    "def palindrome(s):\n",
    "    if s == s[::-1]:\n",
    "        return True\n",
    "    else:\n",
    "         return False\n",
    "palindrome (\"racecar\")"
   ]
  },
  {
   "cell_type": "code",
   "execution_count": 74,
   "metadata": {},
   "outputs": [
    {
     "data": {
      "text/plain": [
       "False"
      ]
     },
     "execution_count": 74,
     "metadata": {},
     "output_type": "execute_result"
    }
   ],
   "source": [
    "#function to check if a leap year is or not\n",
    "def isleapyear(year):\n",
    "    if year % 400 == 0 or (year % 100 != 0 and year % 4 == 0):\n",
    "           return True\n",
    "    return False\n",
    "\n",
    "isleapyear(2019)"
   ]
  },
  {
   "cell_type": "code",
   "execution_count": 78,
   "metadata": {},
   "outputs": [
    {
     "data": {
      "text/plain": [
       "5"
      ]
     },
     "execution_count": 78,
     "metadata": {},
     "output_type": "execute_result"
    }
   ],
   "source": [
    "#function to count the number of digits in a given numbers\n",
    "def isnumberofdigits(s):\n",
    "    s=len(str(s))\n",
    "    return s\n",
    "isnumberofdigits(12345)\n",
    "        "
   ]
  },
  {
   "cell_type": "code",
   "execution_count": 90,
   "metadata": {},
   "outputs": [
    {
     "data": {
      "text/plain": [
       "86"
      ]
     },
     "execution_count": 90,
     "metadata": {},
     "output_type": "execute_result"
    }
   ],
   "source": [
    "#function to identify the greatest of 4 numbers\n",
    "\n",
    "def greatest (n1,n2,n3,n4):\n",
    "    if  n1 > n2 and n1 > n3 and n1 > n4:\n",
    "        return n1\n",
    "    elif n2 > n1 and n2 > n3 and n2 > n4:\n",
    "        return n2\n",
    "    elif n3 > n1 and n3 > n2 and n3 > n4: \n",
    "        return n3\n",
    "    else:\n",
    "        return n4\n",
    "\n",
    "greatest(23,24,56,86)"
   ]
  },
  {
   "cell_type": "code",
   "execution_count": null,
   "metadata": {},
   "outputs": [],
   "source": []
  },
  {
   "cell_type": "markdown",
   "metadata": {},
   "source": [
    "# ITERATION\n",
    "\n",
    "- FOR\n",
    "- WHILE"
   ]
  },
  {
   "cell_type": "code",
   "execution_count": 91,
   "metadata": {},
   "outputs": [
    {
     "name": "stdout",
     "output_type": "stream",
     "text": [
      "1 2 3 4 5 6 7 8 9 10 11 12 13 14 15 16 17 18 19 20 21 22 23 24 25 26 27 28 29 30 1 2 3 4 5 6 7 8 9 10 "
     ]
    }
   ],
   "source": [
    "#function to print n natural numbers using for loop\n",
    "\n",
    "def printNNaturalNumbers(n):\n",
    "    for counter in range (1, n+1):\n",
    "        print(counter, end=\" \")\n",
    "    return\n",
    "printNNaturalNumbers(30)\n",
    "printNNaturalNumbers(10)"
   ]
  },
  {
   "cell_type": "code",
   "execution_count": 97,
   "metadata": {},
   "outputs": [
    {
     "name": "stdout",
     "output_type": "stream",
     "text": [
      "1 2 3 4 5 6 7 8 9 10 "
     ]
    }
   ],
   "source": [
    "#function to print n natural numbers using while loop\n",
    "\n",
    "def nnaturalnumbers(n):\n",
    "    counter  = 1\n",
    "    while counter <= n:\n",
    "        print (counter, end = \" \")\n",
    "        counter = counter + 1\n",
    "    return\n",
    "\n",
    "nnaturalnumbers(10)\n",
    "\n"
   ]
  },
  {
   "cell_type": "code",
   "execution_count": null,
   "metadata": {},
   "outputs": [],
   "source": []
  },
  {
   "cell_type": "code",
   "execution_count": 5,
   "metadata": {},
   "outputs": [
    {
     "name": "stdout",
     "output_type": "stream",
     "text": [
      "24 30 36 42 48 54 60 "
     ]
    }
   ],
   "source": [
    "# function to print all numbers divisible by 6 \n",
    "# and not a factor of 100 in a given range (lb, ub) inclusive\n",
    "\n",
    "def divby6(lb,ub):\n",
    "    for i in range (lb,ub+1):\n",
    "        if i%6 == 0 and i%100 != 0:\n",
    "            print (i,end = \" \")\n",
    "        \n",
    "    return\n",
    "\n",
    "divby6(20,60)\n"
   ]
  },
  {
   "cell_type": "code",
   "execution_count": 15,
   "metadata": {},
   "outputs": [
    {
     "name": "stdout",
     "output_type": "stream",
     "text": [
      "57660.0 "
     ]
    }
   ],
   "source": [
    "#function to find the average of all given range (ib, and ub both are inclusive)(even numbers)\n",
    "#function to find the average of all given range (ib, and ub both are inclusive)\n",
    "\n",
    "def avgofgiven(lb,ub):\n",
    "    counter = 0\n",
    "    avg = 0\n",
    "    sum1 = 0\n",
    "    for i in range (lb,ub+1):\n",
    "        if i%2 == 0:\n",
    "            sum1 = sum1+i**3\n",
    "            counter = counter +1\n",
    "    avg = sum1/counter\n",
    "    print(avg,end = \" \")\n",
    "        \n",
    "    return\n",
    "\n",
    "avgofgiven(2,60)\n"
   ]
  },
  {
   "cell_type": "code",
   "execution_count": 32,
   "metadata": {},
   "outputs": [
    {
     "name": "stdout",
     "output_type": "stream",
     "text": [
      "1 2 3 4 6 12 "
     ]
    }
   ],
   "source": [
    "#function to generate list of factors to the given number\n",
    "\n",
    "#12 -> 1 2 3 4 6 12\n",
    "\n",
    "def factofgivennum(n):\n",
    "    for i in range (1,n+1):\n",
    "        if n%i == 0:\n",
    "            print(i, end = \" \")\n",
    "    return\n",
    "\n",
    "factofgivennum(12)\n",
    "    "
   ]
  },
  {
   "cell_type": "code",
   "execution_count": 47,
   "metadata": {},
   "outputs": [
    {
     "name": "stdout",
     "output_type": "stream",
     "text": [
      "120 "
     ]
    }
   ],
   "source": [
    "#Function to calculate the factorial of a given number\n",
    "\n",
    "def factor(n):\n",
    "    fact=1\n",
    "    for i in range (1,n+1):\n",
    "        fact = fact*i\n",
    "    print(fact, end = \" \")\n",
    "    return\n",
    "\n",
    "factor(5)"
   ]
  },
  {
   "cell_type": "code",
   "execution_count": 3,
   "metadata": {},
   "outputs": [
    {
     "data": {
      "text/plain": [
       "False"
      ]
     },
     "execution_count": 3,
     "metadata": {},
     "output_type": "execute_result"
    }
   ],
   "source": [
    "#Function to check if a given number is prime\n",
    "def prime(num):\n",
    "        for i in range (2, num//2):\n",
    "            if num % i == 0:\n",
    "                return False\n",
    "        return True\n",
    "    \n",
    "prime(87)\n",
    "        \n",
    "    \n"
   ]
  },
  {
   "cell_type": "code",
   "execution_count": 34,
   "metadata": {},
   "outputs": [
    {
     "name": "stdout",
     "output_type": "stream",
     "text": [
      "6.428571428571429\n"
     ]
    }
   ],
   "source": [
    "# function to calculate the average first N prime numbers\n",
    "def n1pavg(lb,ub):\n",
    "    sum = 0\n",
    "    avg = 0\n",
    "    count = 0\n",
    "    for num in range (lb,ub+1):\n",
    "        if prime(num):\n",
    "            sum = sum+num\n",
    "            count = count + 1\n",
    "            avg = sum/count\n",
    "        \n",
    "    print(avg)\n",
    "    return\n",
    "n1pavg(2,15)\n",
    "        \n",
    "\n",
    "    \n"
   ]
  },
  {
   "cell_type": "code",
   "execution_count": 23,
   "metadata": {},
   "outputs": [
    {
     "data": {
      "text/plain": [
       "True"
      ]
     },
     "execution_count": 23,
     "metadata": {},
     "output_type": "execute_result"
    }
   ],
   "source": [
    "# function to find given number is perfect or not\n",
    "\n",
    "def perfect(number):\n",
    "    Sum = 0\n",
    "    for i in range(1, number):\n",
    "        if(number % i == 0):\n",
    "            Sum = Sum + i\n",
    "    if (Sum == number):\n",
    "        return True\n",
    "    return False\n",
    "\n",
    "perfect(28)\n"
   ]
  },
  {
   "cell_type": "code",
   "execution_count": 30,
   "metadata": {},
   "outputs": [
    {
     "name": "stdout",
     "output_type": "stream",
     "text": [
      "6 28 496 "
     ]
    }
   ],
   "source": [
    "# function to generate all perfect numbers in a given range\n",
    "\n",
    "def perfectgive(lb,ub):\n",
    "    for number in range (lb,ub+1):\n",
    "        if perfect(number):\n",
    "            print(number,end=\" \")\n",
    "    return\n",
    "perfectgive(2,800)\n"
   ]
  },
  {
   "cell_type": "code",
   "execution_count": 18,
   "metadata": {},
   "outputs": [
    {
     "name": "stdout",
     "output_type": "stream",
     "text": [
      "500 502 504 506 508 510 512 514 516 518 520 522 524 526 528 530 532 534 536 538 540 542 544 546 548 550 "
     ]
    }
   ],
   "source": [
    "# function to print the alternate values in a given range # [500 to 550] -> 500 502 504 ...........550\n",
    "\n",
    "\n",
    "def alternate(lb,ub):\n",
    "    for i in range (lb,ub+1):       #for i in a range (ib,ub+1, 2) is same as for and if loop\n",
    "        if i%2 == 0:\n",
    "            print (i,end = \" \")\n",
    "        \n",
    "    return\n",
    "alternate(500,550)\n"
   ]
  },
  {
   "cell_type": "code",
   "execution_count": 20,
   "metadata": {},
   "outputs": [
    {
     "name": "stdout",
     "output_type": "stream",
     "text": [
      "501 503 505 507 509 511 513 515 517 519 521 523 525 527 529 531 533 535 537 539 541 543 545 547 549 "
     ]
    }
   ],
   "source": [
    "# function to print the alternate values in a given range # (500 to 550) -> 501 503 505 ...........549\n",
    "\n",
    "\n",
    "def alternate(lb,ub):\n",
    "    for i in range (lb,ub):\n",
    "        if i%2 == 0:\n",
    "            print (i+1,end = \" \")\n",
    "        \n",
    "    return\n",
    "alternate(500,550)"
   ]
  },
  {
   "cell_type": "code",
   "execution_count": 7,
   "metadata": {},
   "outputs": [
    {
     "name": "stdout",
     "output_type": "stream",
     "text": [
      "501 502 503 504 505 506 507 508 509 510 511 512 513 514 515 516 517 518 519 520 521 522 523 524 525 526 527 528 529 530 531 532 533 534 535 536 537 538 539 540 541 542 543 544 545 546 547 548 549 "
     ]
    }
   ],
   "source": [
    "# function to print the alternate values in a given range # (500, 550) -> 501 502 503 ...........549\n",
    "\n",
    "def alternate(lb,ub):\n",
    "    for i in range (lb+1,ub):\n",
    "        if i%1 == 0:\n",
    "            print (i,end = \" \")\n",
    "        \n",
    "    return\n",
    "alternate(500,550)"
   ]
  },
  {
   "cell_type": "code",
   "execution_count": 11,
   "metadata": {},
   "outputs": [
    {
     "name": "stdout",
     "output_type": "stream",
     "text": [
      "550 549 548 547 546 545 544 543 542 541 540 539 538 537 536 535 534 533 532 531 530 529 528 527 526 525 524 523 522 521 520 519 518 517 516 515 514 513 512 511 510 509 508 507 506 505 504 503 502 501 "
     ]
    }
   ],
   "source": [
    "# function to print the reverse values in a given range # (500, 550) -> 501 502 503 ...........549\n",
    "\n",
    "def alternatereverse(lb,ub):\n",
    "    for i in range (ub,lb,-1):\n",
    "        if i%2 == 0:\n",
    "            print (i,end = \" \")\n",
    "        \n",
    "    return\n",
    "alternatereverse(500,550)"
   ]
  },
  {
   "cell_type": "code",
   "execution_count": 19,
   "metadata": {},
   "outputs": [
    {
     "name": "stdout",
     "output_type": "stream",
     "text": [
      "549 547 545 543 541 539 537 535 533 531 529 527 525 523 521 519 517 515 513 511 509 507 505 503 501 "
     ]
    }
   ],
   "source": [
    "# function to print the odd numbers reverse values in a given range # (500, 550) -> 501 502 503 ...........549\n",
    "\n",
    "def alternatereverse(lb,ub):\n",
    "    for i in range (ub,lb,-1):\n",
    "        if i%2 == 0:\n",
    "            print (i-1,end = \" \")\n",
    "        \n",
    "    return\n",
    "alternatereverse(500,550)"
   ]
  },
  {
   "cell_type": "code",
   "execution_count": 21,
   "metadata": {},
   "outputs": [
    {
     "name": "stdout",
     "output_type": "stream",
     "text": [
      "550 548 546 544 542 540 538 536 534 532 530 528 526 524 522 520 518 516 514 512 510 508 506 504 502 "
     ]
    }
   ],
   "source": [
    "# function to print the even numbers reverse values in a given range # (500, 550) -> 501 502 503 ...........549\n",
    "\n",
    "def alternatereverse(lb,ub):\n",
    "    for i in range (ub+1,lb,-1):\n",
    "        if i%2 == 0:\n",
    "            print (i,end = \" \")\n",
    "        \n",
    "    return\n",
    "alternatereverse(500,550)"
   ]
  },
  {
   "cell_type": "code",
   "execution_count": 32,
   "metadata": {},
   "outputs": [
    {
     "data": {
      "text/plain": [
       "15150"
      ]
     },
     "execution_count": 32,
     "metadata": {},
     "output_type": "execute_result"
    }
   ],
   "source": [
    "#function to calculate the sum of numbers in a range\n",
    "\n",
    "def sumofnum(lb,ub):\n",
    "    sum1=0\n",
    "    for i in range (lb,ub+1):\n",
    "        \n",
    "        sum1=sum1+i          # print (sum1,end = \" \") is a wrong statement\n",
    "        \n",
    "    return sum1\n",
    "sumofnum(100,200)"
   ]
  },
  {
   "cell_type": "code",
   "execution_count": 2,
   "metadata": {},
   "outputs": [
    {
     "data": {
      "text/plain": [
       "45.0"
      ]
     },
     "execution_count": 2,
     "metadata": {},
     "output_type": "execute_result"
    }
   ],
   "source": [
    "#function to calculate the average of numbers in a range\n",
    "\n",
    "\n",
    "def sumofnumavg(lb,ub):\n",
    "    sum1=0\n",
    "    count = 0\n",
    "    avg = 0\n",
    "    for i in range (lb,ub+1):\n",
    "        \n",
    "        sum1=sum1+i          # print (sum1,end = \" \") is a wrong statement\n",
    "        count = count+1\n",
    "        avg = sum1/count\n",
    "    return avg\n",
    "sumofnumavg(1,89)"
   ]
  },
  {
   "cell_type": "code",
   "execution_count": 13,
   "metadata": {},
   "outputs": [
    {
     "name": "stdout",
     "output_type": "stream",
     "text": [
      "2000 2004 2008 2012 2016 2020 "
     ]
    }
   ],
   "source": [
    "#function to generate all leap years in a given time periode\n",
    "#2000 - 2020 -> 2000 2004 2008 2012 2016 2020\n",
    "\n",
    "def leapyear(lb,ub):\n",
    "    for year in range (lb,ub+1):\n",
    "        if year % 400 == 0 or (year % 100 != 0 and year % 4 == 0):\n",
    "                          print (year,end = \" \")\n",
    "    return\n",
    "    \n",
    "\n",
    "\n",
    "\n",
    "leapyear(2000,2020)\n",
    "\n"
   ]
  },
  {
   "cell_type": "code",
   "execution_count": 18,
   "metadata": {},
   "outputs": [
    {
     "data": {
      "text/plain": [
       "7671"
      ]
     },
     "execution_count": 18,
     "metadata": {},
     "output_type": "execute_result"
    }
   ],
   "source": [
    "#calculate the number of days in given time period\n",
    "\n",
    "def leapyear(lb,ub):\n",
    "    totaldaysinleap = 366\n",
    "    totaldaysinnonleap = 365\n",
    "    days = 0\n",
    "    for year in range (lb,ub+1):\n",
    "        if year % 400 == 0 or (year % 100 != 0 and year % 4 == 0):\n",
    "                days = days+totaldaysinleap\n",
    "        else:\n",
    "                 days = days+totaldaysinnonleap\n",
    "                          \n",
    "    return days\n",
    "leapyear(2000,2020)  "
   ]
  },
  {
   "cell_type": "code",
   "execution_count": 19,
   "metadata": {},
   "outputs": [
    {
     "data": {
      "text/plain": [
       "2196"
      ]
     },
     "execution_count": 19,
     "metadata": {},
     "output_type": "execute_result"
    }
   ],
   "source": [
    "#calculate the number of days in given time period of leap years\n",
    "\n",
    "def leapyear(lb,ub):\n",
    "    totaldaysinleap = 366\n",
    "    totaldaysinnonleap = 365\n",
    "    days = 0\n",
    "    for year in range (lb,ub+1):\n",
    "        if year % 400 == 0 or (year % 100 != 0 and year % 4 == 0):\n",
    "                days = days+totaldaysinleap\n",
    "       \n",
    "                          \n",
    "    return days\n",
    "leapyear(2000,2020)  "
   ]
  },
  {
   "cell_type": "code",
   "execution_count": 32,
   "metadata": {},
   "outputs": [
    {
     "data": {
      "text/plain": [
       "5475"
      ]
     },
     "execution_count": 32,
     "metadata": {},
     "output_type": "execute_result"
    }
   ],
   "source": [
    "#calculate the number of days in given time period of non leap years\n",
    "\n",
    "def leapyear(lb,ub):\n",
    "    totaldaysinleap = 366\n",
    "    totaldaysinnonleap = 365\n",
    "    days = 0\n",
    "    leapdays = 0\n",
    "    for year in range (lb,ub+1):\n",
    "        if year % 400 == 0 or (year % 100 != 0 and year % 4 == 0):\n",
    "            leapdays = leapdays+totaldaysinleap\n",
    "        else:\n",
    "                 days = days+totaldaysinnonleap\n",
    "                          \n",
    "    return days\n",
    "leapyear(2000,2020)  "
   ]
  },
  {
   "cell_type": "code",
   "execution_count": 33,
   "metadata": {},
   "outputs": [
    {
     "data": {
      "text/plain": [
       "(5475, 2196)"
      ]
     },
     "execution_count": 33,
     "metadata": {},
     "output_type": "execute_result"
    }
   ],
   "source": [
    "#for every year in the given time period, if the is not leap year --> add 365 to the sum, if not add add 366\n",
    "\n",
    "#calculate the number of days in given time period of non leap years\n",
    "\n",
    "def leapyear(lb,ub):\n",
    "    totaldaysinleap = 366\n",
    "    totaldaysinnonleap = 365\n",
    "    days = 0\n",
    "    leapdays = 0\n",
    "    for year in range (lb,ub+1):\n",
    "        if year % 400 == 0 or (year % 100 != 0 and year % 4 == 0):\n",
    "            leapdays = leapdays+totaldaysinleap\n",
    "        else:\n",
    "                 days = days+totaldaysinnonleap\n",
    "                          \n",
    "    return days, leapdays \n",
    "leapyear(2000,2020)  "
   ]
  },
  {
   "cell_type": "code",
   "execution_count": 41,
   "metadata": {},
   "outputs": [
    {
     "data": {
      "text/plain": [
       "(8784, 366, 8760, 365)"
      ]
     },
     "execution_count": 41,
     "metadata": {},
     "output_type": "execute_result"
    }
   ],
   "source": [
    "#function to calculate number of hours for a given time periode leap non leap\n",
    "\n",
    "def leapyear(lb,ub):\n",
    "    totaldaysinleap = 366\n",
    "    totaldaysinnonleap = 365\n",
    "    days = 0\n",
    "    leapdays = 0\n",
    "    leaphours = 0\n",
    "    normalhours = 0\n",
    "    for year in range (lb,ub+1):\n",
    "        if year % 400 == 0 or (year % 100 != 0 and year % 4 == 0):\n",
    "            leapdays = leapdays+totaldaysinleap\n",
    "            leaphours = leaphours+8784\n",
    "        else:\n",
    "                 days = days+totaldaysinnonleap\n",
    "                 normalhours = normalhours+8760\n",
    "                          \n",
    "    return leaphours, leapdays ,normalhours, days\n",
    "leapyear(2000,2001)  "
   ]
  },
  {
   "cell_type": "code",
   "execution_count": 43,
   "metadata": {},
   "outputs": [],
   "source": [
    "#function to calculate number of days in given time period\n",
    "# 14,2,2017, 23,6,2019 --> 1464\n",
    "\n",
    "\n",
    "\n",
    "\n"
   ]
  },
  {
   "cell_type": "code",
   "execution_count": null,
   "metadata": {},
   "outputs": [],
   "source": []
  }
 ],
 "metadata": {
  "kernelspec": {
   "display_name": "Python 3",
   "language": "python",
   "name": "python3"
  },
  "language_info": {
   "codemirror_mode": {
    "name": "ipython",
    "version": 3
   },
   "file_extension": ".py",
   "mimetype": "text/x-python",
   "name": "python",
   "nbconvert_exporter": "python",
   "pygments_lexer": "ipython3",
   "version": "3.7.3"
  }
 },
 "nbformat": 4,
 "nbformat_minor": 2
}
