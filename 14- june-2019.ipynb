{
 "cells": [
  {
   "cell_type": "code",
   "execution_count": 1,
   "metadata": {},
   "outputs": [
    {
     "name": "stdout",
     "output_type": "stream",
     "text": [
      "3\n"
     ]
    },
    {
     "data": {
      "text/plain": [
       "14"
      ]
     },
     "execution_count": 1,
     "metadata": {},
     "output_type": "execute_result"
    }
   ],
   "source": [
    "### value of expression\n",
    "n=int(input())\n",
    "def sumSquaresNaturalNumbers(n):\n",
    "    sum=0\n",
    "    for i in range(1, n+1):\n",
    "        sum = sum+i**2\n",
    "    return sum\n",
    "\n",
    "sumSquaresNaturalNumbers(n)"
   ]
  },
  {
   "cell_type": "code",
   "execution_count": 6,
   "metadata": {},
   "outputs": [
    {
     "ename": "SyntaxError",
     "evalue": "invalid syntax (<ipython-input-6-193725335336>, line 10)",
     "output_type": "error",
     "traceback": [
      "\u001b[1;36m  File \u001b[1;32m\"<ipython-input-6-193725335336>\"\u001b[1;36m, line \u001b[1;32m10\u001b[0m\n\u001b[1;33m    def closestZero(li):\u001b[0m\n\u001b[1;37m      ^\u001b[0m\n\u001b[1;31mSyntaxError\u001b[0m\u001b[1;31m:\u001b[0m invalid syntax\n"
     ]
    }
   ],
   "source": [
    "# Clostest number in list\n",
    "\n",
    "n=int(input())\n",
    "s=input()\n",
    "s=s.split()\n",
    "li = []\n",
    "for i in s:\n",
    "    li.append((int(i))\n",
    "              \n",
    "def closestZero(li):\n",
    "#separate all numbers less than Zero\n",
    " n1=[]\n",
    " for i in li:\n",
    "    if i < 0:\n",
    "              n1.append(i)\n",
    "                           \n",
    " p1 = []\n",
    " for i in li:\n",
    "      if i >= o:\n",
    "              pl.append(i)\n",
    " nc = max(n1)\n",
    " pc = min(p1)\n",
    " if pc == 0:\n",
    "    return pc\n",
    " if abs(nc)==pc:\n",
    "    return pc\n",
    " elif:\n",
    "     abs(nc) < pc\n",
    "    return  abs(nc)\n",
    " else:\n",
    "    return pc\n",
    "    \n",
    "closestZero(li)\n",
    "              "
   ]
  },
  {
   "cell_type": "code",
   "execution_count": 11,
   "metadata": {},
   "outputs": [
    {
     "name": "stdout",
     "output_type": "stream",
     "text": [
      "3\n"
     ]
    },
    {
     "ename": "AttributeError",
     "evalue": "'function' object has no attribute 'split'",
     "output_type": "error",
     "traceback": [
      "\u001b[1;31m---------------------------------------------------------------------------\u001b[0m",
      "\u001b[1;31mAttributeError\u001b[0m                            Traceback (most recent call last)",
      "\u001b[1;32m<ipython-input-11-b43f49475093>\u001b[0m in \u001b[0;36m<module>\u001b[1;34m\u001b[0m\n\u001b[0;32m      1\u001b[0m \u001b[0mn\u001b[0m\u001b[1;33m=\u001b[0m\u001b[0mint\u001b[0m\u001b[1;33m(\u001b[0m\u001b[0minput\u001b[0m\u001b[1;33m(\u001b[0m\u001b[1;33m)\u001b[0m\u001b[1;33m)\u001b[0m\u001b[1;33m\u001b[0m\u001b[1;33m\u001b[0m\u001b[0m\n\u001b[0;32m      2\u001b[0m \u001b[0ms\u001b[0m\u001b[1;33m=\u001b[0m\u001b[0minput\u001b[0m\u001b[1;33m\u001b[0m\u001b[1;33m\u001b[0m\u001b[0m\n\u001b[1;32m----> 3\u001b[1;33m \u001b[0ms\u001b[0m\u001b[1;33m=\u001b[0m\u001b[0ms\u001b[0m\u001b[1;33m.\u001b[0m\u001b[0msplit\u001b[0m\u001b[1;33m(\u001b[0m\u001b[1;33m)\u001b[0m\u001b[1;33m\u001b[0m\u001b[1;33m\u001b[0m\u001b[0m\n\u001b[0m\u001b[0;32m      4\u001b[0m \u001b[0mli\u001b[0m\u001b[1;33m=\u001b[0m\u001b[1;33m[\u001b[0m\u001b[1;33m]\u001b[0m\u001b[1;33m\u001b[0m\u001b[1;33m\u001b[0m\u001b[0m\n\u001b[0;32m      5\u001b[0m \u001b[1;33m\u001b[0m\u001b[0m\n",
      "\u001b[1;31mAttributeError\u001b[0m: 'function' object has no attribute 'split'"
     ]
    }
   ],
   "source": [
    "n=int(input())\n",
    "s=input\n",
    "s=s.split()\n",
    "li=[]\n",
    "\n",
    "for i in s:\n",
    "    li.append(int(i)) \n",
    "for i in range(0,max(li)):\n",
    "    \n",
    "     min(li)\n",
    "\n"
   ]
  },
  {
   "cell_type": "code",
   "execution_count": null,
   "metadata": {},
   "outputs": [],
   "source": []
  },
  {
   "cell_type": "code",
   "execution_count": null,
   "metadata": {},
   "outputs": [],
   "source": []
  },
  {
   "cell_type": "markdown",
   "metadata": {},
   "source": [
    "## **Explanation**\n",
    " li = [-3,4,2,3,-2]  find the number which is clostest sort the data \n",
    " \n",
    "li =[-2,-3,2,4,3]    #sorted data\n",
    "\n",
    "p1 = [2,3,2,3,4]     #(posotive sorted data)\n",
    "\n",
    "p1[0] -> Check if this number is -ve or +ve in the  list\n",
    "\n",
    "if p[0] in li:\n",
    "\n",
    "  return p1[0].\n",
    "  \n",
    "else \n",
    "\n",
    "   return -p1[0]"
   ]
  },
  {
   "cell_type": "code",
   "execution_count": 21,
   "metadata": {},
   "outputs": [
    {
     "name": "stdout",
     "output_type": "stream",
     "text": [
      "1\n"
     ]
    }
   ],
   "source": [
    "li =[-1,-2,2,1,]\n",
    "\n",
    "li.sort()\n",
    "\n",
    "pl = []\n",
    "\n",
    "for i in li:\n",
    "    pl.append(abs(i))\n",
    "    \n",
    "pl.sort()\n",
    "if pl[0] in li:\n",
    "    print (pl[0])\n",
    "else:              \n",
    "    print(-pl[0])                             #Farthest distance we can take pl[-1] in li"
   ]
  },
  {
   "cell_type": "markdown",
   "metadata": {},
   "source": [
    "# problem -3\n",
    "you are given three numbers a,b and c.\n",
    "\n",
    "Write a program to find the largest number which is less than or equal to c and leaves remainder b when divided by a.\n",
    "\n",
    "3 2 9\n",
    "\n",
    "9 % 3 == 0\n",
    "\n",
    "8 % 3 == 2\n",
    "\n",
    "1 2 4\n",
    "\n",
    "4 % 1 == 0\n",
    "\n",
    "3 % 1 == 0\n",
    "\n",
    "2 % 1 == 0\n",
    "\n",
    "1 % 1 == 0\n",
    "\n",
    "0 % 1 == 0\n",
    "\n",
    "-1 % 1 == 2\n",
    "\n"
   ]
  },
  {
   "cell_type": "code",
   "execution_count": 26,
   "metadata": {},
   "outputs": [
    {
     "data": {
      "text/plain": [
       "-1"
      ]
     },
     "execution_count": 26,
     "metadata": {},
     "output_type": "execute_result"
    }
   ],
   "source": [
    "def calculation(a,b,c):\n",
    "    for i in range(c, a-1,-1):  # c,c-1,.....a\n",
    "        if i % a == b:\n",
    "            return i\n",
    "    return -1\n",
    "calculation(1,2,4)"
   ]
  },
  {
   "cell_type": "code",
   "execution_count": 1,
   "metadata": {},
   "outputs": [
    {
     "data": {
      "text/plain": [
       "'nohtyp'"
      ]
     },
     "execution_count": 1,
     "metadata": {},
     "output_type": "execute_result"
    }
   ],
   "source": [
    "s=(\"python\")\n",
    "s[::-1]"
   ]
  },
  {
   "cell_type": "code",
   "execution_count": 21,
   "metadata": {},
   "outputs": [
    {
     "data": {
      "text/plain": [
       "True"
      ]
     },
     "execution_count": 21,
     "metadata": {},
     "output_type": "execute_result"
    }
   ],
   "source": [
    "def prime(n):\n",
    "    for i in range(2,n):\n",
    "        if n%i==0:\n",
    "            return False\n",
    "    return True\n",
    "prime(5)"
   ]
  },
  {
   "cell_type": "code",
   "execution_count": 20,
   "metadata": {},
   "outputs": [
    {
     "name": "stdout",
     "output_type": "stream",
     "text": [
      "2 3 5 7 11 13 17 19 23 29 31 37 41 43 47 53 59 61 67 71 73 79 83 89 97 101 103 107 109 113 127 131 137 139 149 151 157 163 167 173 179 181 191 193 197 199 211 223 227 229 233 239 241 251 257 263 269 271 277 281 283 293 307 311 313 317 331 337 347 349 353 359 367 373 379 383 389 397 401 409 419 421 431 433 439 443 449 457 461 463 467 479 487 491 499 503 509 521 523 541 547 557 563 569 571 577 587 593 599 601 607 613 617 619 631 641 643 647 653 659 661 673 677 683 691 701 709 719 727 733 739 743 751 757 761 769 773 787 797 809 811 821 823 827 829 839 853 857 859 863 877 881 883 887 907 911 919 "
     ]
    }
   ],
   "source": [
    "def Nprime(num):\n",
    "    for i in range(2,num+1):\n",
    "        if prime(i):\n",
    "            print(i,end=\" \")\n",
    "            \n",
    "Nprime(928)"
   ]
  },
  {
   "cell_type": "code",
   "execution_count": null,
   "metadata": {},
   "outputs": [],
   "source": []
  }
 ],
 "metadata": {
  "kernelspec": {
   "display_name": "Python 3",
   "language": "python",
   "name": "python3"
  },
  "language_info": {
   "codemirror_mode": {
    "name": "ipython",
    "version": 3
   },
   "file_extension": ".py",
   "mimetype": "text/x-python",
   "name": "python",
   "nbconvert_exporter": "python",
   "pygments_lexer": "ipython3",
   "version": "3.7.3"
  }
 },
 "nbformat": 4,
 "nbformat_minor": 2
}
