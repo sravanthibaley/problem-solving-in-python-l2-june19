{
 "cells": [
  {
   "cell_type": "code",
   "execution_count": 10,
   "metadata": {},
   "outputs": [
    {
     "name": "stdout",
     "output_type": "stream",
     "text": [
      "new : 1\n",
      "data : 1\n",
      "data : 1\n",
      "data : 1\n",
      "data : 1\n",
      "data : 1\n",
      "data : 1\n",
      "data : 1\n",
      "data : 1\n",
      "data : 1\n",
      "data : 1\n",
      "data : 1\n",
      "data : 1\n",
      "data : 1\n",
      "data : 1\n",
      "data : 1\n",
      "data : 1\n",
      "data : 1\n",
      "data : 1\n",
      "data : 1\n",
      "data : 1\n",
      "data : 1\n",
      "data : 1\n",
      "data : 1\n",
      "data : 1\n",
      "data : 1\n",
      "data : 1\n",
      "data : 1\n",
      "data : 1\n",
      "data : 1\n",
      "data : 1\n",
      "data : 1\n",
      "data : 1\n",
      "data : 1\n",
      "data : 1\n",
      "data : 1\n",
      "data : 1\n"
     ]
    }
   ],
   "source": [
    "# function to print the frequency count of \n",
    "# frequency distribution\n",
    "\n",
    "# data in line 1\n",
    "# data in line 2\n",
    "# data in line 3\n",
    "# o/p\n",
    "# data : 3\n",
    "# in : 3\n",
    "# line : 3\n",
    "# 1 : 1\n",
    "# 2 : 1\n",
    "# 3 : 1\n",
    "\n",
    "def uniqwordfreqcount(filepath):\n",
    "    c=0\n",
    "    uniq=[]\n",
    "    with open(filepath,'r') as f:\n",
    "        filedata=f.read().split()\n",
    "        for i in filedata:\n",
    "            s = i\n",
    "            if s not in uniq:\n",
    "                uniq.append(s)\n",
    "            for j in filedata:\n",
    "                if s == j:\n",
    "                    c = c+1\n",
    "                    print(s,':',c)\n",
    "                    c = 0\n",
    "    return \n",
    "filepath = \"Datafiles/data.txt\"\n",
    "uniqwordfreqcount(filepath)"
   ]
  },
  {
   "cell_type": "code",
   "execution_count": null,
   "metadata": {},
   "outputs": [],
   "source": []
  }
 ],
 "metadata": {
  "kernelspec": {
   "display_name": "Python 3",
   "language": "python",
   "name": "python3"
  },
  "language_info": {
   "codemirror_mode": {
    "name": "ipython",
    "version": 3
   },
   "file_extension": ".py",
   "mimetype": "text/x-python",
   "name": "python",
   "nbconvert_exporter": "python",
   "pygments_lexer": "ipython3",
   "version": "3.7.3"
  }
 },
 "nbformat": 4,
 "nbformat_minor": 2
}
