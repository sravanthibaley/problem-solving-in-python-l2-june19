{
 "cells": [
  {
   "cell_type": "code",
   "execution_count": null,
   "metadata": {},
   "outputs": [],
   "source": [
    "# Function to toggle string characters\n",
    "s=\"abc\"\n",
    "s.islower() # check the case of character\n",
    "s.isupper()\n",
    "\n",
    "s.lower()   #check the case \n",
    "s.upper()\n",
    "s.split()\n",
    "list(s)"
   ]
  },
  {
   "cell_type": "code",
   "execution_count": null,
   "metadata": {},
   "outputs": [],
   "source": [
    "# Function to Toffle string characters\n",
    "\n",
    "def togglestring(s):                                 # Convert the string into a list \n",
    "    s=list(s)\n",
    "    t=[]\n",
    "    for c in s:\n",
    "        if c.islower():\n",
    "            t.append(c.upper())\n",
    "        else:\n",
    "            t.append(c.lower())\n",
    "    return\"\".join(t) \n",
    "\n",
    "togglestring(\"abC\")"
   ]
  },
  {
   "cell_type": "markdown",
   "metadata": {},
   "source": [
    "### Problem : Duration\n",
    "Input: start time , end time (HH,MM)\n",
    "\n",
    "       HH-{00,23,00, 02,03..... 23}\n",
    "       MM-{00,01,02,03.......59}\n",
    "       HH MM-{00 00, 23,59}\n",
    "       \n",
    "output: time differnce in HH MM"
   ]
  },
  {
   "cell_type": "code",
   "execution_count": null,
   "metadata": {},
   "outputs": [],
   "source": [
    "# Calculate the time difference as total number of \n",
    "# Convert the total mintues into HH MM\n",
    "\n",
    "s= \"1 44 2 14\"\n",
    "def minuteDiffernce(s):\n",
    "    s=s.split()\n",
    "    sh=int(s[0])\n",
    "    sm=int(s[1])\n",
    "    eh=int(s[2])\n",
    "    em=int(s[3])\n",
    "    startmintues = (sh*60) + sm\n",
    "    endmintues = (eh*60) +em    \n",
    "    return  endmintues-startmintues\n",
    "def outputTimeformat(mintues):                         #convert minutes to HH MM\n",
    "    hh=minutes//60\n",
    "    mm=minutes%60\n",
    "    print(hh,mm)\n",
    "    return  \n",
    "minutes=minuteDiffernce(s)\n",
    "outputTimeformat(minutes)\n"
   ]
  },
  {
   "cell_type": "markdown",
   "metadata": {},
   "source": [
    "### play with numbers\n",
    "\n",
    "line1 : array size(n),no of queries(q)\n",
    "line2 : n array elements\n",
    "next q lines : query -sub array of the original\n",
    "\n",
    "5 3\n",
    "1 2 3 4 5"
   ]
  },
  {
   "cell_type": "code",
   "execution_count": null,
   "metadata": {},
   "outputs": [],
   "source": []
  },
  {
   "cell_type": "code",
   "execution_count": null,
   "metadata": {},
   "outputs": [],
   "source": []
  },
  {
   "cell_type": "code",
   "execution_count": null,
   "metadata": {},
   "outputs": [],
   "source": [
    "# Two strings comparision\n",
    "def twoStrings(s1,s2):\n",
    "    s1=sorted(s1)\n",
    "    s2=sorted(s2)\n",
    "    if s1==s2:\n",
    "        print(\"YES\")\n",
    "    else:\n",
    "        print(\"NO\")\n",
    "    \n",
    "s=int(input())\n",
    "for i in range(s):\n",
    "    s1=input()\n",
    "    l=s1.split()\n",
    "twoStrings(l[0],l[1])\n"
   ]
  },
  {
   "cell_type": "code",
   "execution_count": null,
   "metadata": {},
   "outputs": [],
   "source": []
  },
  {
   "cell_type": "code",
   "execution_count": null,
   "metadata": {},
   "outputs": [],
   "source": [
    "# prime number \n",
    "\n",
    "def prime(n):\n",
    "    for i in range(2,n):\n",
    "        if n%i==0:\n",
    "            return False\n",
    "    return True \n",
    "def generateprime(num):\n",
    "    for i in range (2,num+1):\n",
    "        if prime(i):\n",
    "            print(i, end=\" \")\n",
    "    return\n",
    "num=int(input())\n",
    "generateprime(num)\n",
    "             "
   ]
  },
  {
   "cell_type": "code",
   "execution_count": null,
   "metadata": {},
   "outputs": [],
   "source": [
    "# toggle string\n",
    "def toggle(n):\n",
    "    for i in n:\n",
    "        if i==i.upper():\n",
    "            s=i.lower()\n",
    "        elif i==i.lower():\n",
    "            s=i.upper()\n",
    "        print(s,end=\"\")\n",
    "n=input()\n",
    "toggle(n)"
   ]
  },
  {
   "cell_type": "code",
   "execution_count": null,
   "metadata": {},
   "outputs": [],
   "source": [
    "#character sum\n",
    "def charactersum(s):\n",
    "    sum=0\n",
    "    for i in range(0, len(s)):\n",
    "        if s>=chr(97) and s<= chr(122) :\n",
    "             sum= sum+(ord(s[i])-96)\n",
    "    print(sum)\n",
    "s=input(\" \")\n",
    "charactersum(s)\n",
    "        "
   ]
  },
  {
   "cell_type": "code",
   "execution_count": 26,
   "metadata": {
    "scrolled": true
   },
   "outputs": [
    {
     "name": "stdout",
     "output_type": "stream",
     "text": [
      "50\n",
      "6\n",
      "28\n"
     ]
    }
   ],
   "source": [
    "#proper number\n",
    "def perfect(n):\n",
    "    sum=0\n",
    "    for i in range(1,n):\n",
    "        if n%i==0:\n",
    "            sum = sum+i\n",
    "    if sum==n:\n",
    "        return True\n",
    "    return False\n",
    "def generateperfect(num):\n",
    "    for n in range(1,num):\n",
    "        if perfect(n):\n",
    "            print(n)\n",
    "    return\n",
    "num=int(input())\n",
    "#n=int(input())\n",
    "generateperfect(num)"
   ]
  },
  {
   "cell_type": "code",
   "execution_count": 4,
   "metadata": {},
   "outputs": [
    {
     "name": "stdout",
     "output_type": "stream",
     "text": [
      "23rewvd\n",
      "2\n",
      "5\n"
     ]
    }
   ],
   "source": [
    "#count letter and divisors\n",
    "def countLetters(s):\n",
    "    count1=0\n",
    "    count2=0\n",
    "    for i in s:\n",
    "        if (i.isdigit()):\n",
    "            count1=count1+1\n",
    "        elif (i.isalpha()):\n",
    "            count2=count2+1\n",
    "    print(count1)\n",
    "    print(count2)\n",
    "s=input()\n",
    "countLetters(s)"
   ]
  },
  {
   "cell_type": "code",
   "execution_count": 25,
   "metadata": {},
   "outputs": [
    {
     "name": "stdout",
     "output_type": "stream",
     "text": [
      "5\n",
      "[0, 1, 2, 1]\n",
      "2\n"
     ]
    }
   ],
   "source": [
    "#maxremainder\n",
    "def maxremainder(n):\n",
    "    rem=0\n",
    "    s=[]\n",
    "    maxn=0\n",
    "    r=0\n",
    "    for i in range(1,n):\n",
    "         #if n%i:\n",
    "            s.append(n%i)\n",
    "    \n",
    "    #r=max(s)\n",
    "    print(s)\n",
    "    print(s.index(max(s)))\n",
    "    \n",
    "n=int(input())                         \n",
    "maxremainder(n)"
   ]
  },
  {
   "cell_type": "code",
   "execution_count": 27,
   "metadata": {},
   "outputs": [
    {
     "data": {
      "text/plain": [
       "True"
      ]
     },
     "execution_count": 27,
     "metadata": {},
     "output_type": "execute_result"
    }
   ],
   "source": [
    "\n",
    "\n",
    "\n",
    "def isSpecialNumber(n,p):\n",
    "    if numberprimeFactors(n) >= p:\n",
    "        return True\n",
    "    return False  \n",
    "\n",
    "# Function to check if number is prime\n",
    "\n",
    "def isprime(n):\n",
    "    flag=1\n",
    "    if n==2:\n",
    "        return True\n",
    "    for i in range(3,n//2+1):\n",
    "        if n%i==0:\n",
    "            flag=0\n",
    "            return False\n",
    "    if flag==1:\n",
    "        return True\n",
    "#Function to check if number of prime factors  for a given number\n",
    "\n",
    "def numberprimeFactors(n):\n",
    "    if isprime(n):\n",
    "        return 1\n",
    "    count = 0\n",
    "    for i in range(2,n//2+1):\n",
    "        if isprime(i) and n%i == 0:\n",
    "            count+=1\n",
    "    return count\n",
    "\n",
    "#numberprimeFactors(30)\n",
    "isSpecialNumber(8,2)        \n"
   ]
  },
  {
   "cell_type": "code",
   "execution_count": null,
   "metadata": {},
   "outputs": [],
   "source": [
    "def palindrome(s):\n",
    "    sl=s[::-1]\n",
    "    if sl==s:\n",
    "        print(\"YES\")\n",
    "    else:\n",
    "        print(\"NO\")\n",
    "    return\n",
    "s=input()\n",
    "palindrome(s)\n",
    "        "
   ]
  }
 ],
 "metadata": {
  "kernelspec": {
   "display_name": "Python 3",
   "language": "python",
   "name": "python3"
  },
  "language_info": {
   "codemirror_mode": {
    "name": "ipython",
    "version": 3
   },
   "file_extension": ".py",
   "mimetype": "text/x-python",
   "name": "python",
   "nbconvert_exporter": "python",
   "pygments_lexer": "ipython3",
   "version": "3.7.3"
  }
 },
 "nbformat": 4,
 "nbformat_minor": 2
}
